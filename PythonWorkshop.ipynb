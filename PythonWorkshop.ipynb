{
  "nbformat": 4,
  "nbformat_minor": 0,
  "metadata": {
    "colab": {
      "provenance": [],
      "include_colab_link": true
    },
    "kernelspec": {
      "name": "python3",
      "display_name": "Python 3"
    },
    "language_info": {
      "name": "python"
    }
  },
  "cells": [
    {
      "cell_type": "markdown",
      "metadata": {
        "id": "view-in-github",
        "colab_type": "text"
      },
      "source": [
        "<a href=\"https://colab.research.google.com/github/csargin/pizza/blob/main/PythonWorkshop.ipynb\" target=\"_parent\"><img src=\"https://colab.research.google.com/assets/colab-badge.svg\" alt=\"Open In Colab\"/></a>"
      ]
    },
    {
      "cell_type": "code",
      "execution_count": null,
      "metadata": {
        "colab": {
          "base_uri": "https://localhost:8080/"
        },
        "id": "5bZDjtA4aaPy",
        "outputId": "1de5a12a-ccbd-4f14-bb39-0d751440a490"
      },
      "outputs": [
        {
          "output_type": "stream",
          "name": "stdout",
          "text": [
            "Hello World\n"
          ]
        }
      ],
      "source": [
        "print(\"Hello World\")"
      ]
    },
    {
      "cell_type": "code",
      "source": [
        "y = 13\n",
        "y = y / 2 * 4\n",
        "y = y // 2\n",
        "print(type(int(y)))"
      ],
      "metadata": {
        "colab": {
          "base_uri": "https://localhost:8080/"
        },
        "id": "SMtO6rhJagr7",
        "outputId": "22f39171-143c-40b9-ca8d-3a82504efdf6"
      },
      "execution_count": null,
      "outputs": [
        {
          "output_type": "stream",
          "name": "stdout",
          "text": [
            "<class 'int'>\n"
          ]
        }
      ]
    },
    {
      "cell_type": "code",
      "source": [
        "x = \"Ömer Cengiz 21 Şubat 1996 doğumludur. Balık burcudur.\""
      ],
      "metadata": {
        "id": "0iy8eHDOcpjr"
      },
      "execution_count": null,
      "outputs": []
    },
    {
      "cell_type": "code",
      "source": [
        "type(x)"
      ],
      "metadata": {
        "colab": {
          "base_uri": "https://localhost:8080/"
        },
        "id": "_5tmdlSTddAB",
        "outputId": "ab9b6b47-267a-4188-9977-5374b5b75e90"
      },
      "execution_count": null,
      "outputs": [
        {
          "output_type": "execute_result",
          "data": {
            "text/plain": [
              "str"
            ]
          },
          "metadata": {},
          "execution_count": 7
        }
      ]
    },
    {
      "cell_type": "code",
      "source": [
        "# Ömer Cengiz Balık burcudur.\n",
        "x = \"Ömer Cengiz 21 Şubat 1996 doğumludur. Balık burcudur.\"\n",
        "x = x[0:11] + x[-16:]\n",
        "print(x)"
      ],
      "metadata": {
        "colab": {
          "base_uri": "https://localhost:8080/"
        },
        "id": "wqLA2xm4dec5",
        "outputId": "c1eb6414-4b01-4fa0-8190-7b1112d3c31f"
      },
      "execution_count": null,
      "outputs": [
        {
          "output_type": "stream",
          "name": "stdout",
          "text": [
            "Ömer Cengiz Balık burcudur.\n"
          ]
        }
      ]
    },
    {
      "cell_type": "code",
      "source": [
        "cost = 180\n",
        "tax = cost * 0.08\n",
        "tip = cost * 0.1\n",
        "total = cost + tax + tip\n",
        "\n",
        "print(f\"The tax is {tax} € and the tip is {tip} €, making the total {total} €\")"
      ],
      "metadata": {
        "colab": {
          "base_uri": "https://localhost:8080/"
        },
        "id": "ls11yVR1d8UB",
        "outputId": "f1cfdc34-ae44-4b1f-9af4-7e198a479fd0"
      },
      "execution_count": null,
      "outputs": [
        {
          "output_type": "stream",
          "name": "stdout",
          "text": [
            "The tax is 14.4 € and the tip is 18.0 €, making the total 212.4 €\n"
          ]
        }
      ]
    },
    {
      "cell_type": "code",
      "source": [
        "cost = float(input(\"Please enter the cost of the meal: \"))\n",
        "tax = cost * 0.08\n",
        "tip = cost * 0.1\n",
        "total = cost + tax + tip\n",
        "\n",
        "print(f\"The tax is {tax} € and the tip is {tip} €, making the total {total} €\")"
      ],
      "metadata": {
        "colab": {
          "base_uri": "https://localhost:8080/"
        },
        "id": "EQ1VP7ecgx3L",
        "outputId": "a102445e-203c-4e03-9a6f-fea11123cd0a"
      },
      "execution_count": null,
      "outputs": [
        {
          "output_type": "stream",
          "name": "stdout",
          "text": [
            "Please enter the cost of the meal: 45\n",
            "The tax is 3.6 € and the tip is 4.5 €, making the total 53.1 €\n"
          ]
        }
      ]
    },
    {
      "cell_type": "code",
      "source": [
        "#Kullanıcı Giriş Uygulaması\n",
        "print(\"*************************ATM Giriş Paneli*************************\")\n",
        "\n",
        "kullanici_adi = \"Omer\"\n",
        "parola = \"hello\"\n",
        "\n",
        "input_data_username = input(\"Lütfen Kullanıcı adınızı giriniz: \")\n",
        "input_data_password = input(\"Lütfen parolanızı giriniz: \")\n",
        "\n",
        "if kullanici_adi != input_data_username and parola == input_data_password:\n",
        "  print(\"Kullanıcı adınız hatalı...\")\n",
        "elif kullanici_adi == input_data_username and parola != input_data_password:\n",
        "  print(\"Parolanız hatalı...\")\n",
        "elif kullanici_adi != input_data_username and parola != input_data_password:\n",
        "  print(\"Kulllanıcı adınız ve parolanız hatalı...\")\n",
        "else:\n",
        "  print(\"Tebrikler, başarıyla giriş yaptınız...\")"
      ],
      "metadata": {
        "colab": {
          "base_uri": "https://localhost:8080/"
        },
        "id": "mLeCX-klhP4y",
        "outputId": "6863fe8e-68e4-4f98-acd6-c4dc3b171a2b"
      },
      "execution_count": null,
      "outputs": [
        {
          "output_type": "stream",
          "name": "stdout",
          "text": [
            "*************************ATM Giriş Paneli*************************\n",
            "Lütfen Kullanıcı adınızı giriniz: Omer\n",
            "Lütfen parolanızı giriniz: hello\n",
            "Tebrikler, başarıyla giriş yaptınız...\n"
          ]
        }
      ]
    },
    {
      "cell_type": "code",
      "source": [
        "def function_operation(a, b):\n",
        "  return a * 2 + b\n",
        "\n",
        "def function_operation2(c, d):\n",
        "  return 2 ** c * d"
      ],
      "metadata": {
        "id": "x4IB4pvEjaOT"
      },
      "execution_count": null,
      "outputs": []
    },
    {
      "cell_type": "code",
      "source": [
        "function_operation(3, 4) + function_operation2(9, 2)"
      ],
      "metadata": {
        "colab": {
          "base_uri": "https://localhost:8080/"
        },
        "id": "K13EGcM5nWIM",
        "outputId": "b559044b-5d05-468c-a0b9-38929463e18f"
      },
      "execution_count": null,
      "outputs": [
        {
          "output_type": "execute_result",
          "data": {
            "text/plain": [
              "1034"
            ]
          },
          "metadata": {},
          "execution_count": 31
        }
      ]
    },
    {
      "cell_type": "code",
      "source": [],
      "metadata": {
        "id": "8sPILH2PnqlF"
      },
      "execution_count": null,
      "outputs": []
    }
  ]
}